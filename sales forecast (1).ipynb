{
 "cells": [
  {
   "cell_type": "markdown",
   "id": "db22572c",
   "metadata": {},
   "source": [
    "# SALES FORECAST\n",
    "\n",
    "It is determining present-day or future sales using data like past sales, seasonality, festivities, economic conditions, etc.\n",
    "\n",
    "So, this model will predict sales on a certain day after being provided with a certain set of inputs.\n",
    "\n",
    "In this model 8 parameters were used as input:\n",
    "\n",
    "* past seven day sales\n",
    "* day of the week\n",
    "* date – the date was transformed into 3 different inputs\n",
    "* season\n",
    "* Festival or not\n",
    "* sales on the same day in the previous year"
   ]
  },
  {
   "cell_type": "markdown",
   "id": "ee838500",
   "metadata": {},
   "source": [
    "### How doe it work\n",
    "\n",
    "First, all inputs are preprocessed to be understandable by the machine. This is a linear regression model based on supervised learning, so the output will be provided along with the input. Then inputs are then fed to the model along with desired output. The model will plot(learn) a relation(function) between the input and output. This function or relation is then used to predict the output for a specific set of inputs. In this case, input parameters like date and previous sales are labeled as input, and the amount of sales is marked as output. The model will predict a number between 0 and 1 as a sigmoid function is used in the last layer. This output can be multiplied by a specific number(in this case, maximum sales), this will be our corresponding sales amount for a certain day. This output is then provided as input to calculate sales data for the next day. This cycle of steps will be continued until a certain date arrives.\n"
   ]
  },
  {
   "cell_type": "markdown",
   "id": "be56ccb0",
   "metadata": {},
   "source": [
    "## Required packages and Installation\n",
    "\n",
    "* numpy\n",
    "* pandas\n",
    "* keras\n",
    "* tensorflow\n",
    "* csv\n",
    "* matplotlib.pyplot"
   ]
  },
  {
   "cell_type": "markdown",
   "id": "ad17cc09",
   "metadata": {},
   "source": [
    "## Step 1: Import the required libraries and dataset.\n",
    "\n",
    "The dataset I chose for this exercise or program is in the form of CSV so, I used pd.read_csv from the panda's module as shown in the picture below dataset contains 4 columns named TV, radio, newspaper, and sales."
   ]
  },
  {
   "cell_type": "code",
   "execution_count": null,
   "id": "503950c9",
   "metadata": {},
   "outputs": [],
   "source": [
    "import pandas as pd\n",
    "import numpy as np\n",
    "import matplotlib.pyplot as plt\n",
    "import seaborn as sns\n",
    "import tensorflow as tf\n",
    "import warnings\n",
    "warnings.filterwarnings('ignore')"
   ]
  },
  {
   "cell_type": "code",
   "execution_count": null,
   "id": "29adb562",
   "metadata": {},
   "outputs": [],
   "source": [
    "df = pd.read_csv('C:/Users/asus/Downloads/advertising.csv')\n",
    "df.head()"
   ]
  },
  {
   "cell_type": "markdown",
   "id": "ad1e41d6",
   "metadata": {},
   "source": [
    "## Step 2: Check for null values in the dataset and data inspection.\n",
    "\n",
    "After the extraction of data, it’s time to check the dataset for null values and duplicate values.\n"
   ]
  },
  {
   "cell_type": "code",
   "execution_count": null,
   "id": "89795326",
   "metadata": {},
   "outputs": [],
   "source": [
    "pd.DataFrame(df.isnull().sum(),columns=['Count of Null Values']).T"
   ]
  },
  {
   "cell_type": "code",
   "execution_count": null,
   "id": "ee3e82d5",
   "metadata": {},
   "outputs": [],
   "source": [
    "df.describe(include='all')"
   ]
  },
  {
   "cell_type": "code",
   "execution_count": null,
   "id": "9b731a3f",
   "metadata": {},
   "outputs": [],
   "source": [
    "df.info()"
   ]
  },
  {
   "cell_type": "markdown",
   "id": "1c1a22f0",
   "metadata": {},
   "source": [
    "## Step 3: Exploratory Data Analysis (EDA)."
   ]
  },
  {
   "cell_type": "code",
   "execution_count": null,
   "id": "9e44748e",
   "metadata": {},
   "outputs": [],
   "source": [
    "a = df['TV']\n",
    "b = df['Sales']"
   ]
  },
  {
   "cell_type": "code",
   "execution_count": null,
   "id": "4cb02a59",
   "metadata": {},
   "outputs": [],
   "source": [
    "plt.figure(figsize=(10,5))\n",
    "plt.title('Scatterplot between TV and Sales(EDA)')\n",
    "sns.scatterplot(a,b,color='orange')"
   ]
  },
  {
   "cell_type": "code",
   "execution_count": null,
   "id": "552f7e0c",
   "metadata": {},
   "outputs": [],
   "source": [
    "a = df['Radio']\n",
    "b = df['Sales']\n",
    "plt.figure(figsize=(10,5))\n",
    "plt.title('Scatterplot between Radio and Sales(EDA)')\n",
    "sns.scatterplot(x=a,y=b,color='red')"
   ]
  },
  {
   "cell_type": "code",
   "execution_count": null,
   "id": "2ff966be",
   "metadata": {},
   "outputs": [],
   "source": [
    "a = df['Newspaper']\n",
    "b = df['Sales']\n",
    "plt.figure(figsize=(10,5))\n",
    "plt.title('Scatterplot between Newspaper and Sales(EDA)')\n",
    "sns.scatterplot(x=a,y=b,color='purple')"
   ]
  },
  {
   "cell_type": "markdown",
   "id": "0451d23d",
   "metadata": {},
   "source": [
    "## Distplot:\n",
    "\n",
    "Displot is used to represent the univariate distribution of data(involving one variate or variable quantity) against the density."
   ]
  },
  {
   "cell_type": "code",
   "execution_count": null,
   "id": "e156e2d7",
   "metadata": {},
   "outputs": [],
   "source": [
    "plt.figure(figsize=(10,5))\n",
    "sns.distplot(df['TV'])\n",
    "plt.title('Distplot for TV')"
   ]
  },
  {
   "cell_type": "code",
   "execution_count": null,
   "id": "972a6872",
   "metadata": {},
   "outputs": [],
   "source": [
    "plt.figure(figsize=(10,5))\n",
    "sns.distplot(df['Radio'])\n",
    "plt.title('Distplot for Radio')"
   ]
  },
  {
   "cell_type": "code",
   "execution_count": null,
   "id": "938ff635",
   "metadata": {},
   "outputs": [],
   "source": [
    "plt.figure(figsize=(10,5))\n",
    "sns.distplot(df['Newspaper'])\n",
    "plt.title('Distplot for Newspaper')"
   ]
  },
  {
   "cell_type": "code",
   "execution_count": null,
   "id": "1aef73e0",
   "metadata": {},
   "outputs": [],
   "source": [
    "plt.figure(figsize=(10,5))\n",
    "sns.distplot(df['Sales'])\n",
    "plt.title('Distplot for Sales')"
   ]
  },
  {
   "cell_type": "code",
   "execution_count": null,
   "id": "d133fb19",
   "metadata": {},
   "outputs": [],
   "source": [
    "plt.figure(figsize=(10,5))\n",
    "sns.pairplot(df,x_vars=['TV','Radio','Newspaper'],y_vars=['Sales'],height=3,aspect=1)\n",
    "plt.title('Pair plot between TV, radio, and newspaper with respect to sales')"
   ]
  },
  {
   "cell_type": "code",
   "execution_count": null,
   "id": "588d23f0",
   "metadata": {},
   "outputs": [],
   "source": [
    "plt.figure(figsize=(10,5))\n",
    "sns.heatmap(df.corr(),annot=True,vmin=0,vmax=1,cmap='ocean')\n",
    "plt.title('Heatmap (EDA)')"
   ]
  },
  {
   "cell_type": "markdown",
   "id": "9fa662b9",
   "metadata": {},
   "source": [
    "## Step 4: Statistical Tasks"
   ]
  },
  {
   "cell_type": "markdown",
   "id": "bfa0780a",
   "metadata": {},
   "source": [
    "## Standard Deviation\n",
    "\n",
    "Standard Deviation(std) is a function used to depict how much variation is from the mean."
   ]
  },
  {
   "cell_type": "code",
   "execution_count": null,
   "id": "150aa738",
   "metadata": {},
   "outputs": [],
   "source": [
    "df.std()"
   ]
  },
  {
   "cell_type": "markdown",
   "id": "69e61f88",
   "metadata": {},
   "source": [
    "## Correlation\n",
    "\n",
    "Correlation(corr) is a function used to identify the relationship between the variables."
   ]
  },
  {
   "cell_type": "code",
   "execution_count": null,
   "id": "bac4f78e",
   "metadata": {},
   "outputs": [],
   "source": [
    "df.corr()"
   ]
  },
  {
   "cell_type": "markdown",
   "id": "bcdbb029",
   "metadata": {},
   "source": [
    "## Variance\n",
    "\n",
    "Variance(var) is a function used to check the dispersion that takes into account the spread of all data points in a data set."
   ]
  },
  {
   "cell_type": "code",
   "execution_count": null,
   "id": "80fa1e9c",
   "metadata": {},
   "outputs": [],
   "source": [
    "df.var()"
   ]
  },
  {
   "cell_type": "markdown",
   "id": "ed8d8a3f",
   "metadata": {},
   "source": [
    "## Mean\n",
    "\n",
    "Mean returns the average of the dataset."
   ]
  },
  {
   "cell_type": "code",
   "execution_count": null,
   "id": "38584df5",
   "metadata": {},
   "outputs": [],
   "source": [
    "df.mean()"
   ]
  },
  {
   "cell_type": "markdown",
   "id": "7cf4efe4",
   "metadata": {},
   "source": [
    "## Median\n",
    "\n",
    "The median calculates the middle value of the dataset."
   ]
  },
  {
   "cell_type": "code",
   "execution_count": null,
   "id": "4cd81f7b",
   "metadata": {},
   "outputs": [],
   "source": [
    "df.median()"
   ]
  },
  {
   "cell_type": "markdown",
   "id": "2cce6846",
   "metadata": {},
   "source": [
    "## Step 5: Linear regression model building and prediction."
   ]
  },
  {
   "cell_type": "code",
   "execution_count": null,
   "id": "090c10f3",
   "metadata": {},
   "outputs": [],
   "source": [
    "x = df[['TV']]\n",
    "y = df['Sales']"
   ]
  },
  {
   "cell_type": "code",
   "execution_count": null,
   "id": "95762010",
   "metadata": {},
   "outputs": [],
   "source": [
    "from sklearn.model_selection import train_test_split\n",
    "x_train, x_test, y_train, y_test = train_test_split(x, y, random_state = 50, test_size = 0.2)"
   ]
  },
  {
   "cell_type": "code",
   "execution_count": null,
   "id": "42846f81",
   "metadata": {},
   "outputs": [],
   "source": [
    "from sklearn.linear_model import LinearRegression\n",
    "lr = LinearRegression()\n",
    "lr.fit(x_train,y_train)"
   ]
  },
  {
   "cell_type": "code",
   "execution_count": null,
   "id": "1053e6f8",
   "metadata": {},
   "outputs": [],
   "source": [
    "lr.intercept_"
   ]
  },
  {
   "cell_type": "code",
   "execution_count": null,
   "id": "97e602de",
   "metadata": {},
   "outputs": [],
   "source": [
    "lr.coef_"
   ]
  },
  {
   "cell_type": "markdown",
   "id": "53c0798e",
   "metadata": {},
   "source": [
    "### Model Building and splitting dataset."
   ]
  },
  {
   "cell_type": "code",
   "execution_count": null,
   "id": "db38536c",
   "metadata": {},
   "outputs": [],
   "source": [
    "print('The LR model is: Y =',lr.intercept_,'+', lr.coef_,'TV')"
   ]
  },
  {
   "cell_type": "code",
   "execution_count": null,
   "id": "2103d6bd",
   "metadata": {},
   "outputs": [],
   "source": [
    "lr.score(x_train,y_train)"
   ]
  },
  {
   "cell_type": "code",
   "execution_count": null,
   "id": "71ec5540",
   "metadata": {},
   "outputs": [],
   "source": [
    "lr.score(x_test, y_test)"
   ]
  },
  {
   "cell_type": "code",
   "execution_count": null,
   "id": "9c345630",
   "metadata": {},
   "outputs": [],
   "source": [
    "y_pred = lr.predict(x_test)\n",
    "y_pred"
   ]
  },
  {
   "cell_type": "markdown",
   "id": "57b09d1a",
   "metadata": {},
   "source": [
    "### Linear Regression output for test and train data."
   ]
  },
  {
   "cell_type": "code",
   "execution_count": null,
   "id": "4c5730c8",
   "metadata": {},
   "outputs": [],
   "source": [
    "diff = pd.DataFrame({'Actual': y_test,'Predicted': y_pred})\n",
    "diff.head()"
   ]
  },
  {
   "cell_type": "markdown",
   "id": "c9db417a",
   "metadata": {},
   "source": [
    "### Difference between actual data and predicted data"
   ]
  },
  {
   "cell_type": "code",
   "execution_count": null,
   "id": "716b06d0",
   "metadata": {},
   "outputs": [],
   "source": [
    "from sklearn import metrics\n",
    "from sklearn.metrics import r2_score"
   ]
  },
  {
   "cell_type": "code",
   "execution_count": null,
   "id": "55702186",
   "metadata": {},
   "outputs": [],
   "source": [
    "R2 = r2_score(y_test, y_pred)\n",
    "mae = metrics.mean_absolute_error(y_test, y_pred)\n",
    "mse = metrics.mean_squared_error(y_test, y_pred)\n",
    "rmse = np.sqrt(metrics.mean_squared_error(y_test, y_pred))"
   ]
  },
  {
   "cell_type": "code",
   "execution_count": null,
   "id": "5b67f662",
   "metadata": {},
   "outputs": [],
   "source": [
    "print(\"Accuracy =\",R2.round(2)*100,\"%\")\n",
    "print(\"Mean Absolute Error=\",mae.round(2))\n",
    "print(\"Mean Squared Error\",mse.round(2))"
   ]
  },
  {
   "cell_type": "markdown",
   "id": "2238e2c1",
   "metadata": {},
   "source": [
    "### Accuracy of linear regression on the dataset."
   ]
  },
  {
   "cell_type": "code",
   "execution_count": null,
   "id": "5d381f5a",
   "metadata": {},
   "outputs": [],
   "source": [
    "plt.figure(figsize=(10,5))\n",
    "sns.regplot(x=y_test,y=y_pred,scatter_kws={'color':'red'})\n",
    "plt.title('Regression graph')"
   ]
  },
  {
   "cell_type": "markdown",
   "id": "8eb6fad6",
   "metadata": {},
   "source": [
    "The linear regression graph is created by train data and the model line is shown by the blue line which is created using test data and predicted data as we can see most of the red dots are on the line, thus we can say that model has produced the best-fit line."
   ]
  },
  {
   "cell_type": "markdown",
   "id": "25e6d835",
   "metadata": {},
   "source": [
    "### Conclusion:\n",
    "In a nutshell, TV advertising is the best for sales prediction. It’s a good starting point, especially when attempting to understand the relevance of python as well as statistics."
   ]
  },
  {
   "cell_type": "markdown",
   "id": "b2f31c86",
   "metadata": {},
   "source": [
    "## References:\n",
    "\n",
    "* https://www.kaggle.com/code/aleemaparakatta/sales-prediction-regression/notebook\n",
    "* https://www.geeksforgeeks.org/sales-forecast-prediction-python/\n",
    "* https://medium.com/mlearning-ai/sales-prediction-using-a-linear-regression-model-ffeec84eede1"
   ]
  }
 ],
 "metadata": {
  "kernelspec": {
   "display_name": "Python 3 (ipykernel)",
   "language": "python",
   "name": "python3"
  },
  "language_info": {
   "codemirror_mode": {
    "name": "ipython",
    "version": 3
   },
   "file_extension": ".py",
   "mimetype": "text/x-python",
   "name": "python",
   "nbconvert_exporter": "python",
   "pygments_lexer": "ipython3",
   "version": "3.9.12"
  }
 },
 "nbformat": 4,
 "nbformat_minor": 5
}
