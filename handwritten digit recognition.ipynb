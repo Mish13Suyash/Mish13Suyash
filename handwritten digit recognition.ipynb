{
 "cells": [
  {
   "cell_type": "markdown",
   "id": "b6aec844",
   "metadata": {},
   "source": [
    "<center>\n",
    "    <img src=\"data:image/jpeg;base64,/9j/4AAQSkZJRgABAQAAAQABAAD/2wCEAAkGBxMTEhUTExMWFhUWGCIcGBgXGBsgHxsjIRsiIyIfIRgfIykhICAnIRseIjIkJiosLy8vHiM0OTQuOCkuLywBCgoKDg0OHBAQHC4mISYsLjYuLjYuLi4wMS8wLi4sMywwLi4uLi42LzEuLi4uLi4sMC4uLi4uLi4uLi4wLi4uLv/AABEIAOEA4QMBIgACEQEDEQH/xAAcAAACAgMBAQAAAAAAAAAAAAAABgQFAQMHAgj/xABHEAACAQMCAwYDBAcGBAUFAQABAgMABBESIQUGMQcTIkFRYTJxgRRCkaEVI1JiscHRM1NygpLwJHOy4TRDVNLxCGOTosIl/8QAGgEBAAMBAQEAAAAAAAAAAAAAAAIDBAEFBv/EAC0RAAICAQMDAgQHAQEAAAAAAAABAhEDEiExBEFRYXETIoGhQpGxwdHh8DIj/9oADAMBAAIRAxEAPwDuNFFFAFFFFAFFFFAFYrBONzSjxXniMEx2i/aHGxcHESn3k+8fZc1GUlFWzqTfA30vcT5xtISV7wyyD7kI1t9cbD6kVz7i/F5pZUjupJHDgkJENEQxvg4Opjj1Pl0qHxJ0MXdxHu1cNgoMEFfIY881nl1K4ii1YvI5T86XL/2VssY9Znyf9CZ/jVLHzLczl1+2acNpIjjC4I8gWySKo7C+adWVGJzEGGrqDnGD88H8Ki2wlaYroKhnRjkYK6QA3zyFH45ql5cju3RNQiuxacTvnMkYaa5kySrMJmULgE9FKgnY1m8EboATJLnOlXlkO4231Nt6VB4vZOHDK40a9QGcYOCCD6rvn6mtyWqSLHDFMjzjOysCX1buNIOeu4x0wKjUnTt/clSR64MYxGDhoWKa2CSOBjGeoIzivUF8yz+GS5RQmdZncgEnGCjEj1rXb8OW2/VXUiozR6VjdgCFOxO5yc+vtiodnw92kOZVZSFDMGG4Geg8ic7/ADNdqSt2/uNmMdzzDc2yFjesQMHEiK536DYA4q5tucbtQC8Ecy9cxOVb28LbfnSPxmORZdhlGdG6ZyFwSuPmox86kvO8UaF8rrckjzXw5C/M4P1osmRJUzjhF9jo/D+drWQhZC0D/szLp/B90P45pkRwRkEEHzFcP4HcLpOollkDSsH30gnYYPlipdjxNoZlS1eWEsurHxRegzG2cZxtpx0q+PUb1JFbxeDtFZpI4bzxpIW8j7vy75MmP/N5p8zt704wyqyhlYMpGQQQQfkRWiMlJWipprk3UUUVI4FFFFAFFFFAFFFFAFFFFAFFFFAYqq45xyG1QNK27bIg3Zz6Bev16CoHNfNC2w7uMB7hhlUzso/bc/dX8z5Uhd6GZpnkE07r8WfL9lB91fYVTlyqHuWQxuRO4nfz3m850Q+Vuh2I/wDuMPiP7o2+dLf6SaNmHeKEYaoVAGBp6qfyI+tQY5e7ISIE7hkbUMhiwyh3zjqd8bZFMEHCbae7S3EmmR8toByBjctp6Lnp71kqU5b7l20VsQeI2ssih4/hfTJscMhwD5g5B6eXU1CuON2kEPdzsJHLFiiDJBJyPlj1zVn2rcr3cYhFrJJJHIdHdIMHONtx1G3yqDyz2KTOBJfSiEde7Qhm/wAzfCPpmvRwdFj0KeWX0XJVLNv8qJ3ZPxOG8upYjGEVU1gFss51AddthnP1rz2rct3Yuo1sRO6yISyJnCEHHx+WfQnyq9ju+AcIbKFGnXbw5kk/1dF+pFVd321vI/d2Vkzsemokk++lc1rx4FHJqxw29SlzbW7E237J+LS+Jowv/MkGf50+9mPZ1d8Puu/mMLKUKHSx1LnByNseWDvVDw3njjt+8qWqxq0Qy6hUBXcjHjOScjGBVVw3j3HLlLqVbxlFopaVWwpGAcgAL1Gk+laZrLJOLcV/ZHY6J2r8j3PEmhMBhURK2S5IYkkbbDoMevnXM7jsh4pHuqI2PNJBn+VW3LFxx67h+0JfiOPVpUzOq62HkPCc+lbOD84cwMZO7QXIhcpJhEbDDyypBPTqKjBZMa0px2GzNHIXK/EBfRRXYuIosFjncNj7uvcDP8qaO164iskgKoGErENGWwcADxA7464+tQ4O2O5hbu72wZW6nTlTj10sP51bScy8C4vpW40rLjC98CjDPksg26+WfpVGXDrmp5I7ehJTaWzE3hfMVlNE8SnuXkBB19SSOuroancN4dMzEscI5BLE52GwVQBsPPOfM1t5j7FMgyWE4YdRHIRv8pB/OoXZnytxD7VJBO0kEcShmRxqDZOBp8vLqDWbN0WJxcsUvoy2OZ38yN03FXlIRJArMSxGAQEU4I9yTgY9zV7wu5lt8SWjgK25hf8As29cfsE+o/CtfMPA7a3uhE8h1SDWqk6Qwzgg42O/l50v8Tm/WyRuMKzaS2pRpTAxp32JwR6jrXmaZQlS2LtpLc7Fy9zJDdAqPBKoGuJviHuP2l/eG1Xgri9siaI8MYnT+ycHDqB0OTvg46HY08cpc3CciCcqJjnQ6/BMB1KnyYea/PGRWrFmU9nyUzx6dxxoooq8rCiiigCiiigCiiigMUt83cyi2URx4a4kHgU9FHm7+ij8ztU7mLjCWkJlYEn4UQdXY9FH+9hmuaOxPeSSurTzfEc7eyD0UdB/3qnNl0L1LIQ1M161Kv8ArBLLLuzk5Mhx0z06dB5VRRalcRxrojUqQCrAodQJ3P3cBgOuM+lDwuCI41ZEXBClW8BBByGxjTt0BNdF4LwW24haMS7MrkqTGxGMHBGRWXHjlKX6sulJJHKub+cEVmjtgpfo0uBt/h9SPWpPZpyHe3MyXrSPboDqEn33/wAIPl7namnlPsohtZJbi+ZWjiYmJWPh0g7O/l9P/iqrnLtFub1mteFRyd0ow0iKdTD2x8K/ma9/FCEY6MK92zJKTk7kPPOfaVaWAMYPf3CjGhSNj+83QfLrXK+PcwcUvJreO7drWC6Yd2FUquktjOM6j1HU+dY5H5ZgvLe8tJIzHxBRrjZ8gnB6YPvsfZgat7FHv+CTw3Css/Dmyjt6AfDn1GCP9NTjCGLhb3u/fhojbZ64l2a2CJdQpPP9qtYhKzOAIyCNh06HHrmkfs24l9n4layZwDIEb5P4f511FefFuoLaNYDeGWPRd26qdQIGz68aRuOhPn7VQ2PY9dSzGUFLOLVqRGYySL5joAPzqUMtRlHK+TjXgYuXbU2vGuKImxeAyJ9fFn8c1t5Yvra+tby5TTHcy2zR3UYOAWCnDge+/wDsVbN2ZpLKZrq8uJpSuksGEe3p4ANq2W/ZXwsZH2ctjbLO29ZpZMb5bvb7EqYpdnHDbh7OCCeK2ueHyFnJLYeA5J339d/UZO9QuycCPid6LeVmtIUkYDUcN4gFJ9dgcGn9uzHhmCPs7ID10uwz88Hf61Ei7K7eIP8AZLi4t+8XS+lgwYehDA7b1340Hq359BQncgcWkupb7iV23epawOE1AbA5bGMb7DFVPInLthf2dzJdLJC8LF3uFYBcNk6QpyNgPTz60y3XZzxK2s57S0mgmhnOWDApJ5bA7qenmRSrxy+ax4QOHG3mhmklzOzphWHXwuCQQcAY64Bq+LUm9D5aquyOe5ngkvEbWa4HC7k3VvbAMxPwMCM7KT5D9kjpXQ+Su1m2u9MdwBBOdtz4G+THp8jSldWksHAbWCzjZ3viDM6DOM76SR08l38gareeODWlrFZcN/VrcnDT3DA+AMfMjc7529APWuSjDJs1vfPfblsbouu1zkO8kka9ika4UD4MDVGBv4QOoHtv86T+VucdLCO6AYZ2kI8S+Xi9R79RTpZcZv8AgMiw3ebixY4jlXcqPLGem33T9DU/nPkC34nEL7hzIJH3IGyyeuR91x/81CUYSgoZVcezRKMnF2hf4lKxlJBzHIRllBJK6R4Vxnfrv+9VlbRxiIRuBFg6kA2Me+Qc/dOelNcXKNvw6xY94/6tdTM7ZHTfA8h7CkK6LtKWXLRSHJKqSWXSAAGHQbdfc14OXE4SpcdmaoyTR0vkrmnvv+HnZTMBlJF+GZR5j98feH188Bxri9tAojSMERSRnVHpxmM9Qfn6iuk8pcd+1ReMBZozplUdM+TL6qw3B/pWjDl1bPkqyQ07jBRRRV5WFFFFAFeWONzWaUO0DiJEa2sZw9xkOR1WMfGfYnOkH39qjKSirZ1K3Qt8R4j9suDcE/qY8pAD0P7UnzbGAfQe9J9xEY/1SKcMzakYMTvndGxt+ONhipvFgY2fSwKhBphY6V2H3W8vqDU7gyXcttILaMyOuyAnAAPTLHrjfGOuBWBaskvc07RVCnzrzQyxrbRt4yo71vMbfD7E+dOvYzy7LawNe3MzxRMpZYi2Fx/eMPl0/wDilTs25Blur6RrxGCW7/rVb779Qp9uhPtj1qb2yc7GdmsrYnuYj+uZejEbadttIO3ua+hhhjGKwY/dsySk5PUym7Tu0GW/cxQkpaqcAf3hH3mP8BTZw+9d+DrJwYiCWA5uYkUNI23XLAk9CR69PKtvIsyXHCoY4LOCcxyd3cwvgE6j/ah8bbHJ2Pn6VDlNraXn/wDiSO12z909vgtER1LFjjCr6jO+1Sk418NKqf0+pH1PPaDfzR/ou8Re74myZdEXxHK9Gj67kkYPqRTbw/l2/wCIRj9JusMLbta240F/+Y+S30Bq55U5QFuxubl+/vJN3lbov7qDyUdKbKyzypJRj27/AMEqIHCuEwWyCOCJI1Hkox+J6n61PoqNcXYRgpBJIOABk7e1UN3ydJNQZb2OM4eQLknAJxnc0M0x3UBQOgbct7bfCPxNUnErf7TocK6jY5KZyCc9AfTNcBYvzBbj/wA0/gf449xXvhvG4pmCR6umRkbbY/qKqIOAQZAMrg9d10g40+o/dFWPD+H20UgKP4xkDLetAXdR76yjmQpLGsiHqrAEfnUiigOfcS5Ou7RWbhFwYgd/s0mHjJ/cLglD7dK5rynDEt5cXnGJMT2/j7mXZ3byIXoQDjAG3Svoulfnbkq34jEVkGmUDwSgeJfn6j2rTiz1cZd+/ci0ct4JNfcceY3MjR8ODiSQYGBp6IjYznzPy+VaoOIPwS4jmtpxccNuTkAMCcee3UOvr59DVxfcxycPtBayEWl1ZkNGFXMV0vTGOu+d/Q71yC9uJLqdmCeKRyRHGpwCdyFUVtxQ13tUfH7kXsd87RuGPxSwWexndlC6jEp8Mo9Cv7Y/35VyzkLmUxN9mmJ0E4Qn7jfsn2J/A1Zdm/M8/CrgQXaSR28x3DqRoP7Yz5etWfbNyPokF9arlJmAdU8nY7MPZiR9T71TLDBp4J8PhkoyaepEXDlmjkDaWySFVtTksfvAHA6DGx2FMllK1q0VxEPFEoWRBvrj81PuOo+XvUWC1v4bD/iYzHIBpVuuQRsSB0b29qq+HSM5TS/dgP8ACh1M4z94+Qx5Yz718/OLxzrwzYqkvc7raXKyosiEMjqGUjzBGRUikXkG/wC7kezY+DeSD2BPjT6Mcj2OPKnqt0JKUU0ZpKnRmiiipHDyxxXHuNcSlllluo1Dh5BHGGOMRrtkZ28TBm39RXQeeeImG0fScSSkRR+uX2z9BlvpXMpOIxaTDHpYR4VlLaSMbbf1rL1MtlFF2JdzTa8RDTd24LLuCJFGVOAQQT1HUHBPlUzk/tLVLuS07hnR5AsJjAznocjbY9c+lU3H7mGGzaePVrk8C6ySQd/I9Mb1u7A+Xg80l9IPDCCsef2iPE30Xb6mtXRdPD4css16L3OZpPaI/dq/NY4faERkLcXGQmOo2wz/AEGBn1xSN2ecCv7K4MVxaxtbXMeuZ3AZQoGd39Rn4T5mqzmSyuuOcQuHt9PdW+I1LtpXAJ6H1Jyfwpj5Zt+N2KGK5thdWhGGQupZV89JJ6Y8j+Veio6MWlNW+V39DPyyLHdWVm5v+FzK6ynuXsjkF2bZdI6jfffbB2O9PPZtySlhEZHVftMu8hHRM76F9APzpV7LOVbeW7m4jHEUt1crbI2+CNmb6HIHpvXYKz5518ifv/B1IKKKKzEgqJPCrnxDIHQ+nyPlUjqT6CveKAhGKUeFXBB82+Jf/d9fzpW41dNbyKkcjhVUZBZiMAn8Nlx9ac+nyNRvsiPnWit16gepoBVj43G5HfRs+OmWBAycHGduoI6+VW3DLm2n/Vp3gGM6CWAxt9PMbV7uuW4H3CFR+6xGff8AM1u4RwWOB2dGYkjGGxtvnyAoC3AooooAooooBa565Ri4jbmJwBIu8Unmp+fofMVyrs+sZLGDibrCGv7bCqpGSox8QHUjz264Fd6rnHarwyeFRxOyYxzwjEuAMPH+8Oh0/wAM1pw5XXw+z/33ItdxSsru7v8AhN+/E1ykQDW8roFYNvkLgDb4R08/PyvuxLmsXNubGYhpIRlNW+pAduv7JwPwqNY8CvuKRQnid2scD+KOCHQGl2z/AL60vcbjtrCaz4nw/wAEKuYpYyTqBUlWyDuSRnPvir2oyTh3vauF6HBm7Su0gQSGzEDh1dTIz4wU65X1yPOqjivElRk7vZWXUWjXLNkjAGN8b5Jqb26cFSe2g4hEM6QFYjzRt1J+RJ/E0tcj3EdxalZfigPUEg6fLcb+o+lYOs6eLwrLFcbMvwyd6S+t7ycN32jBtmWRNwWYffUgZAyuR19K7LaXKyIsinKuoYH2IzXFbbi0USksAkZ9Wy5z0yOvQ9PKug9nF6DA9vne3fA/wN4k29Oq/wCWsfTS3cSWVdxxooorWUiBz5PrureHyiRpT8z4F/ItSbxG1WdmjV4zk5w6nYjzHTP41dczqbi6vBqcadMQKnBGldRwfctSybSVpUCmQhcHxoBpI89YAz6efvXn5XeRu+DTBVFEzjPZpd3cKGGSMIgJAcsC7H0wCANsbmr67U8H5e0kaZ2TSfUSSHf/AEgn8KpOVu025+1iwESSBptCOSQVGfFsB4sYJHSpfbrfK0tlaO4VGfXISdgMgZP0Jr2sEMkVHHLjkyzabbOdcmcyTcOP6yFpLS42kjZTpcdMqTtqxTnzcuq34fbcKmK21zI2yyNrLN1DDrpUEjBp4mMkkUr2ZtLtY9H2OMaSI8DDFiDucVUcG4PHJzBNIqKq20Clwvw984xkDp0z+Aq6eVSlrqmv8rI0dD4LwxLaCKCMYWNQo+nU/U71PorDtgVgbvcmZoJrXATpGeuN6zK2BsMn0rgBAd/evdaozuRnIxWzrQGt+oONh/vNeVOx+f8AM17AyTvt6fSvKHZvr/E0BtXoK1nZvY/lWVkAA+VYDDUfkKA20VjpWaAKKKKAK1TxK6sjDKsCCD5gjBFbFYHpWaA+U+arWfhvEWRJHBgbMDZJ0qd1xnywcYqkjimupm0hpZpCWOBksTuxwPxrs/bXy/FJc2U8sndROxhmk/Z21Kf+ofhVZy/xDgPDriN4ZJZ5gdPekkIurwk42XGCeoNexDqF8NSUbdeCuty97Lpv0hweaxl+OLVFv5AjKH6HI/y0v8q9mF9bqZpWjCuhDxBjrA6g9MZGOmamdmnEYY+N3kMEivBPlkKnYkHVt+JqZ2kdpVxaXElmsSD4SJcknQ3Xw9M9RWPLHJJyhBbSVkouqZVRcOWBsM8eHOThDrbB8+v402cq3Pd8QTHw3ERX6odS/kWpOuoJe9EmWCvglkQNkY2XcHHX0qz4ZEbdoZdUhIuFY6juAx0EY6AeL0rwsbqabZskri0dmrNYzRXo2ZaOLXt7IGlZYy3eXMoYggaQHKg7+ygVCsuJOsjKQ+jB2bB/zAg9P6VMtbhO4UfEZGYqCcE5cnNaLQLIs0MUWJ3RlXxatZIIA1k56+R6V5y3k7Xf9zXwhX7GYO94vGxHwh5Prj/vUvtp7yfirRxozmOJRpRST0ydh86cOyzs+u7C8MtwEKtCQCjZw2V2PTyz09KW+KScQHHr2Th8feSpsQQpwpVfJiPMV9KsieZyi1tH6GCtjnKJcW51ATQsPvAOh/Hau89hMbtaT3MjF5J5jlj1OkAbmvHM/MXFreK2K2QlZoNVwe7yFfJyNiQMD51c9jaY4VC3m7Ox+ZY1X1GZzxW0ufJ1KmPFagcsfYbf1rZmvEZySflXnkzLHDD32rCjxH5D+f8ASvTLuDmsBce5NAeI0IJ9/wCv/etwrAFZoDx3e53O9CxAb43r2TWNQxmgPM3T8P417IrVI23Q+X8a2FxQHnR6H6VgPjY7fzrZWCKAzXl2xj1NedPpsf8AflWCDkbfWgBV0/I/xrbWu46fUfxr37UAkdsdkJeFzEjPdlX/AAbf8RkUvwcI4TbZVLJXkFp9pQyvlX6eEM2cHceXnTzz3CH4ddKf7lv4Vx204PYQWdrccWmuJXnjBhjVmOiPAwOvTGNq14d4Vb54RF8ky4v4P01wy6tu7RJ4kDomPATqBBA9mX8Ki/8A1C2um8gkx8cWD/lb/vVbx3lqG0uuH3Vm7Pa3MiNGW6qQ42Od+h/I10btd5LueIPbC3C+APrZ2wB8OB6knf8ACr1KMJxle1M52YmR8WkNtbBQ3ijUtpxltugJPl1PntUq4u5O6mHdnSia1dmBOoHIGBn0r0tkbO1itruINKmRpyMDxEhtfkMYORUhZFMMkeArGNjjUWLDHXJ3NfOZqWR0u7/U3R3X0On/AKRaiuQ/p2P+8l/Af1orZZnolWtgjW6MwTVHqAZwMDxEEVnhCrbh7qIxu8YZlRMaQQCdz1yfPpWy8gmHeKpVQlzLrBGfD3jFcAEeoNV9nZO8rtnKlSC2kLtj4fPV5/LNY1tJ2+/7mjsOnIXaV+kbruBAIgsRYktklgQMDpgbmubczm9HHbuOxZ1lkf7hxkBAxyfTatPYnN3fFkU7akdD88f9qceM30VlzG7zHRHc2+jvP2CwA1fimPrX0ahHFkaivw8GHlEa3tONvYrPHxASGWJm7hgNeBswGRuR0p17GpAeEwe2of8A7Gljh/CWsGhubziED21mshgVN3fvBuD652233xVp2F8SEtnMoGNM7HHoH8X86py7421VX4rydXJfScaAvJFmXREBoDHPxDxA59watF40T/ZRSSjyOnSPxPX6CqrmmDEvhHimUaD+zIh2Yn00/wAKuOA8XE66W8MqbOp/iPY1jJECTjUzEgGJAvxEamx7atl1e29W9hLqTvBkhumfMev5n8qjcftAYzJn+zDPgeZ0EZ+e+a3cGGLaP/AP4UBPGc14bzO/UefyrRJfxKcs6rt5kfyqvm5ggGcOWyfurn8zj0oC6fy+deT0b/flVK3Hnf8As7eQ/PavPfXrdI0jB82NAXUp/l/GvTfeqjbh10w8VyB7KKD9si+ILMvtsaAvWG/0oB2H86poeY4yQHDRN6MNvxq1imVgNDBh7EUB5uSdJxnK77HrS+OPSDxB42jPTWCCPmw2H1FMh6N/vype5VsgV7wnbBjx5NiRjk/jigJTcYfHjgkUH76+MfTG/wCVVHF+YVDwm3/WFWzJnORnwgH0JzTLxbiaW6F3O/RVHVj6AUp8LV5blRKvjZ++c+WlR4F+h6igLzneXTw+6Y7fqW/MVyM8lX/EbCzxLasscQ7oDIdVIHhY5I228vKui9sF6IuFXH74CD/MaSeR+AcNt2eWHicbSy27RhWKjQzgZPXOxGK2YG449S5vxZF8i3x+x4hBNwy2vBGsaSKIVi9nXJPmTuPxrq3aJz3+jHgzF3qyh8jVggjGCD0xua5ZZ8vyw8ZsbeS7F2MrIGVmYKNTZG5OD4M7e1WH/wBRFzm6t48/DESfq3/arnCOScYvdU/Q5wix4hejiMK3coSIsDs26aQSArE77jzHnXiGyjEUkoEZYRsAyY2GPWqpOHyLbWpB2WNd9OrQcdce+Tv5ZqdMkxinIZSjR6VGnBLHYeZHnXzub/t0+7/U2x4+hU/oY+/4UV2f9Dj+7X8BWa1UUWJfMUwtrm9LZxqWQYBPxqB0+a0vfpSVXUgyFWx/aKFU52AGcMDn8ae+eoNF3DJ5TRtGfmp1Db5FqT710hcv3erQerOAFJ/ZBGM7+ZFZMqSyNVyXwdxRU8p8l344gLyKH9VHPnLMAWBPi0g9cBjV7278LQ3FlO+e7Zu6kI9Mg9fkTUyftUSzgRTbvJkHQQwAyPJvlnqM1K5of9LcA+0KB3qqJMDyZD4wPmM4+le5hy5JacktlxZkmkm0VsHZXGouNKqNM0b2s0r5BQYLKy5xjIPUb5qy5Z4hBFx25ggkiaK5iDgRsCFkTqu2wOnJ+gpM4ZyfdcUs4bgcQZhqZJVlJCRBemADufnjqKh8Rs7DhT28ttem4u4plMgUeDRg6gMZAPTqTVzjquLlb4qmRPonA17+Q2/nS1zgEUo6MEnHwsPi8tsDqMZq9t50uIFkQ5SRNSke49aXLSTwW0rfFFI0Mh8/Ftk/UL+NecTPLcdma1cXFvIpZCA4U4OR5jqP4VLteGwzAFZiwCDwo+QNtxjy/wC9Mv7P+/KtSwqoYhQCeuAB50BXW/AbcHBj36+JianR2yLnSiLg+Sj2/rUjYn6VrIO+2xPX6D+lAReNX/coGwDlsbnA6E9R8qqv0/Ng/wDCyY/wyf8AtqRzj/Yp/wAwfwNXaLtv50AtS8wyrktbOoAySVcADPUnT0q6sLoyR6yNJyRgHI2OOv0o4yg+zz/8p/8ApNaOBA9wOm7N/wBZoCdc26vsyKw96qJ+X4x4omaJvY7VdMd/QYrCjYfOgKFXniKiaaMxHYuxAwMeu2T5fWqe35lW3idIo2kbvHK7HTgtsc+dOkkStq1KDv5gHy96w1spAVgGGOhAoBS5cnjnmWSaUSTFchWGO7PoF6fX5U3TKMqRjVn8vP8AKlaSCGO4uJQgCwQ4x1Gpt/4DH1q94HF3dvGXPi06mYn136n0oDnPbZxWQS2VtDEZn7zvmjALatOAoKruQSW/Ctj8Jsp4TNxawt7EkfEJQjk/4Vwc+xyaWYeN8RuOJz8QsLUzIuYlLDw6R6HI3OM7etauPc6Wc7SR8T4WyXCgjUjHIONsg4IGfc16EccqjFduae/5ELJHZNwq3bjE8ltlraBT3bN1OrAB/jXvtX5Nv7m8kuxFmAaUGGBbSOrafTJNXfY5aCy4VPfSDHeFnGf2EGF/Fs/lXngna4LqMxNblZNBMjhsoB0yBjO+en51DLknCUpw3SVHYq6RSz30okES61VAFIjAJG3U+eMeQqfY3IuO5jBYk3CIcqQfC2o7Eei1GW7Sd9XdkAHTrDjV12yoHT5nNM/LFsHv4lA8MEbSH5thV+f3q8GC1TSaNknUWzpWKKKK9DSZbFjtBsTJaGRR44GEq/5fiH1QsPniubXXCEw0gKsHOsmUlgufTyx8q7bIgIIO4Iwa43xKyliaS0jCloZBp15wYz4lIAxnAOn/AC1m6mL2ki7E+xQczWMM1kUicPJF4/3j1zt7jP4e1WnYDx4EzWEh2cF4wfPbDr+G/wCNeLPhrNNqJZlG7FxgdMBVH4nzqPyp2eXf6Qa4gkWJIJAyMwJ1Z+7gexKmtnRZovFLFJ+qI5ou1Ipearmbhb3vDVVTBcMHXPkp6Ffwx/lpP4Pwae6fu7eJpX9FHT5noPrXfu2jlI3dqLiNcz24J2+8nVh746j60jcI5uuJoo7Lg9mIWKjvZAMnPmdR2Azvk716uHP/AOdxW/f+WZ2txt7I+Iz22rhd6jRSqC8If7ynqoYEg4Jzsf4V0mOxRSxVQCxydup9fnXHedDLFDw+1NwJ+LRzAqynddTHCsfTcDfriukck80LfQnUNFxEdM8R6o3y9Dg4NYc0L+dd/wDX7MkvAx6OntWQMVmtFzdJGNUjqgzjLEAZPlk1mJG+igUUBQ81jMaqBli2cDzAByc5AGM9c1R/brwD43wBnrF08j8VMF22uY6AkumMo6iQBkJIO46jIFRzwof+jXpj+1/Pp196ApZ7m6ZWV2cqRhhmIbHyyG86aeXz+pAOzBm1D9k6icdT61A/RY/9Gvl0l9PT0qx4bFIHlZ1CayCAGz0GCf4UBY1gjNR7u+iiwZZETUcDUwGT6DNSaA86djihQfP0r1RQEG7tIpAVdAcnfbrv+dIXbJzYLSz+zRt+unXTt1VOhPtnoKceauYYbG3aeY7DZV83byUVxzhHNtjomvr8C4uLqTu2g691ENtgfLG+3WtGDG29TVpfdkWyy5mTiAtOHtwrvPs4hGfs/XX6sBuf4dc1A7RuHPdz8LgkUC+liUThcZHQnVj08R+hr1xe2ks7Vr3g9+fsZPjiLDMZPkAf4dfnV72K8vSNr4pdFnllyIy5ydPm316D2+dadWiOvba/e35Oc7Hjtn4mlnw+Hh8JwXAGB5In9Tt+NJ/INlFFbPLMwXv/AAjPXSPT5nJ+gpg7UuQ7ye6+1mRXR2VNIBBiTy69fM/M1q4pwfSY+71LGqhcp8SkEY29CAQdqw9XnjHCscXu92XYou9Ri14KkikalKk7yRkq5x6489t810Ls4s/BNcnrM+lSf2I/CPxbUffIpEgWcao8LmdljhIBDZbYsy+WkEtt6V2ThdksEUcKfDGoUfQVh6aLbcmWZXtRLooorWUGKSu0Hh5XReqP7LwzY/uz97/Id/lmnatM0QZSrAFWBBB6EHYioyipKmdTp2cO423eSOgXJCgqz7RjPp5sfYfjVtyzxq5tbaVolWQ58CuThtOxx6Z3x64FSLnh/wBmma0k3UDVCW+8npk9SnQ+2KWbi8dvHFIxCsQxDYRMZ2C9G6dB+NYIuUJV4NLqSsmdnPabI99JHeMAly/hz0jbGAu/QHAHz+daO0Dht3weWWexcx213s2kf2bdcD9nzwfcj0pX505bZVW7QHDAGUeak/e+XrXQ+zTm6LiVu3Dr4B5NGAW/8xR7+Tj88Zr6CM4SissFt3RjlFp0yRydy/aRGwmjt5LmWVTK13qyqNp31ZPqcY67Uqcw36WnEEfhjy3F4GZrplBZJNRzpwPTp6Dbqaj8223EeELJZxSsLKdvBJ6Z6rr+4fX16+tWb8Ti4Rbx2vDylxxC5AMkygPjPQDrnrsPmTU9O+q9V8e3r4o4dQ5N5vgv48p4Jl2lhbZkPnt5j3rVzjxARvBGzsqylhj7OJVyBnJ9Nttga5r2jLNHLYyQeHiroO+W3G5OBuVGfPPUdKv7PnQuscHF4ZbOYENHcaSqkjz1Ywp65G4rLPBtqj+Xf+0STJMPGbiG3OiZ9Q7xo4xbdI1fSGbUQVXcfjTdypcTyRyNNIHIkdFwgXGliM++eteZuBQXCRt30j4BHeLIMyKxBKsRsVJA2HptVrw6xWFWVM4Z2c59WOT9N6znREmu5GuogkxSTW4aV7TuxhQc4c415xsN8gZr1Bx+7eZFSc92zRYZ4ApYSavEoz0wox86ahwCMyK7SSuqNqSNnyikgjPqdidiSBmtVpyrBGQVaQ6WVlDNkKEzpQZ+6NR2oDPNN7JEsZjdgWbSFSNWLHBP3mUDABPWqJOL3axLJNNIutmCKlqJDhehbQWAz86Z+N8EjulCSltI8lON/I565H8zUaDltEiWOOWZCpJ1qwBOo75GNGPbG3lQCnAs90YZJ7hNL20rEdypCrqAIIz8WnGfQ5FXXBbudprdBcaoXhaQBodDEKVUDc5AIbNXNhwGGLRp1eBHXxHOrW2pi3qSd/rWvh3AYrdzIHfAUqgd8rEpOSFz0GQOpOMCgInBuMyyXk0LY0IXxgb+FwBv8jUvmfmW3sITNO+B91R8Tn0UVzzmbn6xsJpXtGNzcvqzggxqWbJyw64x0FVVvbtNbx8Qu7V+I3NxraOPJEUMa9dhsPl1rRHA6UpbL9TjfgzwDjbcSkveI3EQlFnHm3tuqgnJyR5nw9fnWuy4vFxiwvRcW0UcttEZY5Y1wBgEgE/Tp6V5v72Kxgg4vwtO7jnbup7d8lCcE4xnbBU9PX51GtOO3nGCbK0torWCQ5uHiXy89TYH+nqflWrT+JKku98VyiIt9mvKEnEbjSci3Qhpjvg46L7k7/IZp+7WeevspjsbJghiKlyvRdONMe3yGR6bVbc18at+BWK2tov69wdO3n5yOfX0H9K5TydwB7yY3E2SgYsSf/Mbr1+e5rk8sWnmyf8AK4Xk7GLb0o6VPzPeXdhqljEbEatMecsB57+Z3OPlS9w39UyErqLPgPFk7E/fB3Hz3FYW8kDF3d0jUfGD4VIYjDJjbp1O3Sr+FDL3UMAHezjqo2VceKT5DP4kV89kk5z45ZsSUUMHI9j31w90R+rhzHEf2m6Ow+XwfPVXQDUPhdgkEKQxjCRqFH9fmTv9amVthBQikjPKVuworNFTIhRRRQFDzVwIXcWFOmWM6on9G9D+6ehFc3SFCr6ogkkZIeM7aWHr6jzB8xXZaUec+WjL/wARAo79VwydBMv7J/eH3T9OhqjNi1K1yWY56eTl11eykkhmkjIwxGkqSSBoVcDff1OK6HyTb2NhbPukeGLOz4zv039B0FKcNvF3eqJNPd7BDtoYeRX1HXFU8ssjN8TSRHAJLZVjqClQvTAD7kdcVnxZXB0uO6LZxTQ58H5+seKPNY3CqFZysRbpKvkQfuvSrfcsT8BuWvIIBdwaSFLZ1Qk9CcZ6euNx6Usc28mNETNbbp1KA+JPdfMj8xTH2fdq8kem1vlaZD4VcAs49mXq4/P5170NMoa8Ltd0ZJJxdSNHZrxK8knvOIKI7iUD9bExIlKn+6bBC46Y9gKuIHknsOJyXKzLaYzbrdbyK+PInfGcUwcc7N1LfbOFym0uCNQC5VGz5Ffu59MY9q5Tz9c8XyI+ImXQp22AjPvlBpP13qyGnLK4tLj3VeDnBX8p8bv7YSyWkrBIVDyKd1wWA+E7dSK6FwHtvkOEubMucbtAd/n3ZH/9CkXgnMkcccCzPMWikYjRpwqldgcjx+IZwdsUx9j0h+0X19KdfcwMxZh1JyenyXpV2fHFqUpR4OI6Vw7tY4ZL1mMZ8xIpGPr0q7h5z4e4yt5D/rArlRiTi3DftdxbxRTx3CRiSNdIlBZQRjz+Ijz3FWPOfKdlC6xrwxgjPEouVk8ALSKCCmrPTI6edYPhY7rdP6ErZ0aXnGwUZN3D/rFU9/2p8LiH/idftGpauUcV5atIuPx2Yj/4csgKFjvqT169aauAdmwj4tOZbaJrIqwiV2RsHwkEISW28W5FTeHDFW2+L7C2a+NduSgYtbRjnOHmbA+iLnP+oVzzmfmziN5Ess8jCB2ZVVPChKgEjA64DDrTXzvAJODWs6KFa1neFsADGlyo/wClTS9c8zRmOQrK/fNAqjMSd1ryNelMeFiAPHitOGEKuEe/uRZd9nfD4eI8NurB1SOSIiVJ8DbJ+8euNiPkaJLy+4XHHZX6v9i1MdUBGqQEfAJMjC53x1qi7P7y4WO7gtrV55LqMR7fCo3ySen3vM10jlPsochH4nM8xT4INbMiD0JPX5DauZXGEnre18d/deAtygg4fLxpYra0t/sfDYG1am3LHGCfdsEjqRud6aeOcy2PAoFtbZA822Vzv7vIfXHQfwqn7QO0/wCzBrOwjMRTwmQpo0jp4EIH0bGPSuf8t8rS3j99cMwQnJLHxyfjv9aplpUNWV1Hsu7JJNulydy41f2HErBsOkiyLgYxqVv5EVzcyPE/dRlkhjYrlcAIMDBbIbKnI3261mdWicxxao4ozg6DjSNIOrHmPFuPYmrWJUMZllI2yCwOzgbeXU+W3WvCzZnJ1+HsjXCFe4L3fdd7IoYtt4RnWegwvmTtXQOSeXzbxmWVQJ5QMgdI18owfQefqaqeRuVcaLiaPQqf+Hh/YH7bD9s+Q+6Pcmn6rsOLTu+SvJO9kZooorQVBRRRQBRRRQBRRRQCfzZyn3pNxb4E2MOh2SYejejejfjmki0t4tJVI+7eLYxsMGM481/ga7NVDzFyzFdYfJjmX4ZV6/Jh0ZfY1Rmw6t1yWQyaeTi/xnvInDAELk7sz6h79B0+fyq9slsYL+O5YfrIz4tIyMnbJ8tQz86nTwPbMI7mNY2zhJFH6t8+jfdJ9D+dUM3Dy7svdvpiyEPk5bqfkBt8yazRnPG+6LqUl5L7tW5+eAQfY2cMG1NJpOgjHwnOxznp7VE5f7ZLedO64jABnYuq6kPzQ5I/OoPErx44hFpDKgVHJGrUSAMBfTJ6mqeflG2niMgP2dlJDHbTkHrjPQ9djXpdP1eFxUcqr1RTLE7+Udbns64PxEd5ZTCNjv8AqWBX6xHp9MVE4VyLxXhokFlJbTpJ8SSp8WPL/Zqp7IuW0hvmlmMbqqERNnYPkdQehxn86uO1jnq4s7qJbOXYIe9UrqTOfDv64z0PpWtZHOfw4S1L1KXGt2io41Jxt5YPtFjiCCQSd1aoArFTnPxMc/lXrmrjiTyLMLHiEcwmjdg3eGMqjDPgBK5wNtutQ7PtyvFH6yCF/cal/rTtyB2mScRuO4+zKmFLM/edAPRcbnJqycZwWqUVt4ZzYVuZeK2txcJeRWF99qWWNtRR9OEYZGnpuoIr0r8Qk4sOIwcOuNGMd3KQnVcdeg9adu0bn1+GNEPs4kWUHDd5jBHUFce43zXPrvtzuj/Z20S+5LH+lcxqc43GO1Vu+wdFzHyVxW4hnt5Ps9vb3ExlKnLupJzgEYH5VJsuyvhdkBJfXHeY3xIwRP8ASPEfx+lU/IHaRd3V/Gt1JiFgQAiYXV93UdyB186su2zgiXJgeIxiRdQkcnbTtjOOpzn86rnkljnolJRT8HVG+EeuL9rFhZp3PDoFcjYYGiMfzaofZr2jXFxdy/a9TK6gKUU6IsHpjyznqcnalvh3JltHE00j9+UBJVdlyPLHU/WrngnESmU7tVjRgpAGCCdwfRhgj86zZ+rwxi441b8stjid/MW3N0lhdXyzMMsg0DUMKTnOT777Zqg4khEru5AjRzqG4IXA0sMEdM5OPL5V6fhzREN3bucmNwOhDHOr5g4+hNX0MZkIggi7+UDSemlf8b+Q9tz7V5ksk5yW9l6SiiMvdiJZJTq1DCnclwfhGB8R3pq5P5OxomuECKm8Nv5J+8/q/oOi/PerblrlCO3IllIlnAwDjwx+0a+Q9+pporRiw6d3yVTyXsjNFFFaCoKKKKAKKKKAKKKKAKKKKAKKKKAj3dqkqFJEV0YYKsAQfoaTOI8kvFlrJ/D/AHEpJA/wSHLL8jkfKnqioyhGSpo6pNcHFuIwETx9/rtmXPgkUaXOCARJ8JI3xv6bVr4vbrFFrOWRMsQBkknocfl7V2e5t0kUq6q6nqGAI/A0rX3IcBybd3tz6L4k/wDxttj/AAkVml0z/Cy5ZfJzrhVu0ALjU2Ity2fE2QQfplqjpLMJSXw4BUNkDfXuQAOmAR67Cna45bv4/uw3A/cJRv8AS2R+dUUfDDAZGktrhcvqOpS4B2AxpztsKpcJxt0TUovhlFx2KAvpFtERqC6igyT6bDYbdf6VN4WYLPu7q3h7ucgrgE7Y+MMCcYGP4Yr1xGSPvIyJliGrU6yAgtsQCA2PU1IfuCo7uWPUuSMsu5O+/wBa78bIklb/ADZ3Smary+h4jiW8QMY0ypyQunqSADjqN879Kp+HLbrIf+EjA2J8IygPTfG/TcZ/hVvw+OJYwJpYtXd6GAYYxjB3rVE8TTn9ejoVA0Ju5IJP3c7bnyp8abtW692c0o18Tkk73EQCKrqmVAGCwHi326kYFSLpXmjj1g+FmD6QdzjAbH1O3rUu7sftCkJBcNkjxIjLuCCN2wPIb1d2vLt84AWKKAesj6j/AKE9fnUdE5VSDlFdxU5ftldWGSQAY5CRjUQcZ/LOfepCW/8AxA7tnnYLpMMa6iSCSCxGy4yeuKerHkNOtzM8x81X9Wn+lfEfq2/pTTY2EUK6Io1jX0UAfwq6PTNu5Mg8q7CTw7lC4mwbl+5j84oz429mkHw/5d/enPhvDYrdBHDGsaDyUfmT1J9zU2itMIRgqiiqUm+TNFFFTIhRRRQBRRRQBRRRQBRRRQBRRRQBRRRQBRRRQBRRRQGKDRRXGCn4x8Q+VIHaR/4dP8f8qKKrLEQOy/8A875LXSOFf2g/35UUVxBl8KzRRViKwoooqQMVmiigCiiigCiiigCiiigCiiigP//Z\" width=\"300\" alt=\"Machine Learning Project\">\n",
    "</center>    "
   ]
  },
  {
   "cell_type": "markdown",
   "id": "8f837fcd",
   "metadata": {},
   "source": [
    "# FOUNDATION OF MACHINE LEARNING\n",
    "\n",
    "### Handwritten Digit Recognition\n"
   ]
  },
  {
   "cell_type": "markdown",
   "id": "6a5e5408",
   "metadata": {},
   "source": [
    "### What is Handwritten Digit Recognition?\n",
    "\n",
    "The handwritten digit recognition is the ability of computers to recognize human handwritten digits. It is a hard task for the machine because handwritten digits are not perfect and can be made with many different flavors. The handwritten digit recognition is the solution to this problem which uses the image of a digit and recognizes the digit present in the image."
   ]
  },
  {
   "cell_type": "markdown",
   "id": "1bd4191e",
   "metadata": {},
   "source": [
    "### About the Python Deep Learning Project\n",
    "\n",
    "In this project, we are going to implement a handwritten digit recognition app using the MNIST dataset. We will be using a special type of deep neural network that is \"Convolutional Neural Networks\". In the end, we are going to build a GUI in which you can draw the digit and recognize it straight away.\n",
    "\n",
    "MNIST (“Modified National Institute of Standards and Technology”) is considered an unofficial computer vision “hello-world” dataset. This is a collection of thousands of handwritten pictures used to train classification models using Machine Learning techniques."
   ]
  },
  {
   "cell_type": "markdown",
   "id": "8b5968c6",
   "metadata": {},
   "source": [
    "<center>\n",
    "    <img src=\"https://techvidvan.com/tutorials/wp-content/uploads/sites/2/2020/09/mnist-dataset.jpg\" width=\"500\">"
   ]
  },
  {
   "cell_type": "markdown",
   "id": "ae4ad422",
   "metadata": {},
   "source": [
    "### Prerequisites\n",
    "\n",
    "The interesting Python project requires you to have basic knowledge of Python programming, deep learning with Keras library and the Tkinter library for building GUI.\n",
    "\n",
    "##### Things to be considered:\n",
    "* Install the latest Tensorflow library\n",
    "* Prepare the dataset for the model\n",
    "* Develop Perceptron model for classifying the handwritten digits\n",
    "* Plot the change in accuracy per epochs\n",
    "* Evaluate the model on the testing data\n",
    "* Analyze the model summary"
   ]
  },
  {
   "cell_type": "markdown",
   "id": "a96f7d1f",
   "metadata": {},
   "source": [
    "##  Installing the Packages\n"
   ]
  },
  {
   "cell_type": "code",
   "execution_count": 3,
   "id": "c134c51d",
   "metadata": {},
   "outputs": [
    {
     "name": "stdout",
     "output_type": "stream",
     "text": [
      "Collecting tensorflow"
     ]
    },
    {
     "name": "stderr",
     "output_type": "stream",
     "text": [
      "ERROR: Could not install packages due to an OSError: [WinError 5] Access is denied: 'C:\\\\Users\\\\asus\\\\anaconda3\\\\Lib\\\\site-packages\\\\~umpy\\\\core\\\\_multiarray_tests.cp39-win_amd64.pyd'\n",
      "Consider using the `--user` option or check the permissions.\n",
      "\n"
     ]
    },
    {
     "name": "stdout",
     "output_type": "stream",
     "text": [
      "\n",
      "  Downloading tensorflow-2.12.0-cp39-cp39-win_amd64.whl (1.9 kB)\n",
      "Collecting tensorflow-intel==2.12.0\n",
      "  Downloading tensorflow_intel-2.12.0-cp39-cp39-win_amd64.whl (272.8 MB)\n",
      "Requirement already satisfied: packaging in c:\\users\\asus\\anaconda3\\lib\\site-packages (from tensorflow-intel==2.12.0->tensorflow) (21.3)\n",
      "Requirement already satisfied: typing-extensions>=3.6.6 in c:\\users\\asus\\anaconda3\\lib\\site-packages (from tensorflow-intel==2.12.0->tensorflow) (4.5.0)\n",
      "Collecting tensorflow-io-gcs-filesystem>=0.23.1\n",
      "  Downloading tensorflow_io_gcs_filesystem-0.31.0-cp39-cp39-win_amd64.whl (1.5 MB)\n",
      "Requirement already satisfied: wrapt<1.15,>=1.11.0 in c:\\users\\asus\\anaconda3\\lib\\site-packages (from tensorflow-intel==2.12.0->tensorflow) (1.12.1)\n",
      "Collecting flatbuffers>=2.0\n",
      "  Downloading flatbuffers-23.5.26-py2.py3-none-any.whl (26 kB)\n",
      "Collecting termcolor>=1.1.0\n",
      "  Downloading termcolor-2.3.0-py3-none-any.whl (6.9 kB)\n",
      "Collecting tensorflow-estimator<2.13,>=2.12.0\n",
      "  Downloading tensorflow_estimator-2.12.0-py2.py3-none-any.whl (440 kB)\n",
      "Collecting jax>=0.3.15\n",
      "  Downloading jax-0.4.12.tar.gz (1.3 MB)\n",
      "  Installing build dependencies: started\n",
      "  Installing build dependencies: finished with status 'done'\n",
      "  Getting requirements to build wheel: started\n",
      "  Getting requirements to build wheel: finished with status 'done'\n",
      "    Preparing wheel metadata: started\n",
      "    Preparing wheel metadata: finished with status 'done'\n",
      "Collecting absl-py>=1.0.0\n",
      "  Downloading absl_py-1.4.0-py3-none-any.whl (126 kB)\n",
      "Collecting protobuf!=4.21.0,!=4.21.1,!=4.21.2,!=4.21.3,!=4.21.4,!=4.21.5,<5.0.0dev,>=3.20.3\n",
      "  Downloading protobuf-4.23.2-cp39-cp39-win_amd64.whl (422 kB)\n",
      "Requirement already satisfied: six>=1.12.0 in c:\\users\\asus\\anaconda3\\lib\\site-packages (from tensorflow-intel==2.12.0->tensorflow) (1.16.0)\n",
      "Collecting libclang>=13.0.0\n",
      "  Downloading libclang-16.0.0-py2.py3-none-win_amd64.whl (24.4 MB)\n",
      "Collecting keras<2.13,>=2.12.0\n",
      "  Downloading keras-2.12.0-py2.py3-none-any.whl (1.7 MB)\n",
      "Collecting astunparse>=1.6.0\n",
      "  Downloading astunparse-1.6.3-py2.py3-none-any.whl (12 kB)\n",
      "Collecting google-pasta>=0.1.1\n",
      "  Downloading google_pasta-0.2.0-py3-none-any.whl (57 kB)\n",
      "Collecting opt-einsum>=2.3.2\n",
      "  Downloading opt_einsum-3.3.0-py3-none-any.whl (65 kB)\n",
      "Collecting tensorboard<2.13,>=2.12\n",
      "  Downloading tensorboard-2.12.3-py3-none-any.whl (5.6 MB)\n",
      "Collecting gast<=0.4.0,>=0.2.1\n",
      "  Downloading gast-0.4.0-py3-none-any.whl (9.8 kB)\n",
      "Requirement already satisfied: h5py>=2.9.0 in c:\\users\\asus\\anaconda3\\lib\\site-packages (from tensorflow-intel==2.12.0->tensorflow) (3.6.0)\n",
      "Requirement already satisfied: setuptools in c:\\users\\asus\\anaconda3\\lib\\site-packages (from tensorflow-intel==2.12.0->tensorflow) (61.2.0)\n",
      "Collecting numpy<1.24,>=1.22\n",
      "  Downloading numpy-1.23.5-cp39-cp39-win_amd64.whl (14.7 MB)\n",
      "Requirement already satisfied: grpcio<2.0,>=1.24.3 in c:\\users\\asus\\anaconda3\\lib\\site-packages (from tensorflow-intel==2.12.0->tensorflow) (1.42.0)\n",
      "Requirement already satisfied: wheel<1.0,>=0.23.0 in c:\\users\\asus\\anaconda3\\lib\\site-packages (from astunparse>=1.6.0->tensorflow-intel==2.12.0->tensorflow) (0.37.1)\n",
      "Requirement already satisfied: scipy>=1.7 in c:\\users\\asus\\anaconda3\\lib\\site-packages (from jax>=0.3.15->tensorflow-intel==2.12.0->tensorflow) (1.7.3)\n",
      "Requirement already satisfied: importlib-metadata>=4.6 in c:\\users\\asus\\anaconda3\\lib\\site-packages (from jax>=0.3.15->tensorflow-intel==2.12.0->tensorflow) (4.11.3)\n",
      "Collecting ml-dtypes>=0.1.0\n",
      "  Downloading ml_dtypes-0.2.0-cp39-cp39-win_amd64.whl (938 kB)\n",
      "Requirement already satisfied: zipp>=0.5 in c:\\users\\asus\\anaconda3\\lib\\site-packages (from importlib-metadata>=4.6->jax>=0.3.15->tensorflow-intel==2.12.0->tensorflow) (3.7.0)\n",
      "Collecting numpy<1.24,>=1.22\n",
      "  Downloading numpy-1.22.4-cp39-cp39-win_amd64.whl (14.7 MB)\n",
      "Collecting tensorboard-data-server<0.8.0,>=0.7.0\n",
      "  Downloading tensorboard_data_server-0.7.1-py3-none-any.whl (2.4 kB)\n",
      "Collecting google-auth-oauthlib<1.1,>=0.5\n",
      "  Downloading google_auth_oauthlib-1.0.0-py2.py3-none-any.whl (18 kB)\n",
      "Collecting grpcio<2.0,>=1.24.3\n",
      "  Downloading grpcio-1.54.2-cp39-cp39-win_amd64.whl (4.1 MB)\n",
      "Requirement already satisfied: werkzeug>=1.0.1 in c:\\users\\asus\\anaconda3\\lib\\site-packages (from tensorboard<2.13,>=2.12->tensorflow-intel==2.12.0->tensorflow) (2.0.3)\n",
      "Requirement already satisfied: requests<3,>=2.21.0 in c:\\users\\asus\\anaconda3\\lib\\site-packages (from tensorboard<2.13,>=2.12->tensorflow-intel==2.12.0->tensorflow) (2.27.1)\n",
      "Requirement already satisfied: google-auth<3,>=1.6.3 in c:\\users\\asus\\anaconda3\\lib\\site-packages (from tensorboard<2.13,>=2.12->tensorflow-intel==2.12.0->tensorflow) (1.33.0)\n",
      "Requirement already satisfied: markdown>=2.6.8 in c:\\users\\asus\\anaconda3\\lib\\site-packages (from tensorboard<2.13,>=2.12->tensorflow-intel==2.12.0->tensorflow) (3.3.4)\n",
      "Requirement already satisfied: cachetools<5.0,>=2.0.0 in c:\\users\\asus\\anaconda3\\lib\\site-packages (from google-auth<3,>=1.6.3->tensorboard<2.13,>=2.12->tensorflow-intel==2.12.0->tensorflow) (4.2.2)\n",
      "Requirement already satisfied: pyasn1-modules>=0.2.1 in c:\\users\\asus\\anaconda3\\lib\\site-packages (from google-auth<3,>=1.6.3->tensorboard<2.13,>=2.12->tensorflow-intel==2.12.0->tensorflow) (0.2.8)\n",
      "Requirement already satisfied: rsa<5,>=3.1.4 in c:\\users\\asus\\anaconda3\\lib\\site-packages (from google-auth<3,>=1.6.3->tensorboard<2.13,>=2.12->tensorflow-intel==2.12.0->tensorflow) (4.7.2)\n",
      "Collecting requests-oauthlib>=0.7.0\n",
      "  Downloading requests_oauthlib-1.3.1-py2.py3-none-any.whl (23 kB)\n",
      "Collecting google-auth<3,>=1.6.3\n",
      "  Downloading google_auth-2.20.0-py2.py3-none-any.whl (181 kB)\n",
      "Requirement already satisfied: urllib3<2.0 in c:\\users\\asus\\anaconda3\\lib\\site-packages (from google-auth<3,>=1.6.3->tensorboard<2.13,>=2.12->tensorflow-intel==2.12.0->tensorflow) (1.26.9)\n",
      "Requirement already satisfied: pyasn1<0.5.0,>=0.4.6 in c:\\users\\asus\\anaconda3\\lib\\site-packages (from pyasn1-modules>=0.2.1->google-auth<3,>=1.6.3->tensorboard<2.13,>=2.12->tensorflow-intel==2.12.0->tensorflow) (0.4.8)\n",
      "Requirement already satisfied: charset-normalizer~=2.0.0 in c:\\users\\asus\\anaconda3\\lib\\site-packages (from requests<3,>=2.21.0->tensorboard<2.13,>=2.12->tensorflow-intel==2.12.0->tensorflow) (2.0.4)\n",
      "Requirement already satisfied: idna<4,>=2.5 in c:\\users\\asus\\anaconda3\\lib\\site-packages (from requests<3,>=2.21.0->tensorboard<2.13,>=2.12->tensorflow-intel==2.12.0->tensorflow) (3.3)\n",
      "Requirement already satisfied: certifi>=2017.4.17 in c:\\users\\asus\\anaconda3\\lib\\site-packages (from requests<3,>=2.21.0->tensorboard<2.13,>=2.12->tensorflow-intel==2.12.0->tensorflow) (2021.10.8)\n",
      "Collecting oauthlib>=3.0.0\n",
      "  Downloading oauthlib-3.2.2-py3-none-any.whl (151 kB)\n",
      "Requirement already satisfied: pyparsing!=3.0.5,>=2.0.2 in c:\\users\\asus\\anaconda3\\lib\\site-packages (from packaging->tensorflow-intel==2.12.0->tensorflow) (3.0.4)\n",
      "Building wheels for collected packages: jax\n",
      "  Building wheel for jax (PEP 517): started\n",
      "  Building wheel for jax (PEP 517): finished with status 'done'\n",
      "  Created wheel for jax: filename=jax-0.4.12-py3-none-any.whl size=1498562 sha256=d867a166d4e28d8bc2d56c691f613d973be373c8e1d574dc76fbcf7b0451e17a\n",
      "  Stored in directory: c:\\users\\asus\\appdata\\local\\pip\\cache\\wheels\\ca\\6c\\0b\\dab434867ee492673dd15dbf9f6cce85781b555432a92bfb10\n",
      "Successfully built jax\n",
      "Installing collected packages: oauthlib, requests-oauthlib, numpy, google-auth, tensorboard-data-server, protobuf, opt-einsum, ml-dtypes, grpcio, google-auth-oauthlib, absl-py, termcolor, tensorflow-io-gcs-filesystem, tensorflow-estimator, tensorboard, libclang, keras, jax, google-pasta, gast, flatbuffers, astunparse, tensorflow-intel, tensorflow\n",
      "  Attempting uninstall: numpy\n",
      "    Found existing installation: numpy 1.21.5\n",
      "    Uninstalling numpy-1.21.5:\n",
      "      Successfully uninstalled numpy-1.21.5\n",
      "Collecting keras\n",
      "  Using cached keras-2.12.0-py2.py3-none-any.whl (1.7 MB)\n",
      "Installing collected packages: keras\n",
      "Successfully installed keras-2.12.0\n",
      "Requirement already satisfied: numpy in c:\\users\\asus\\anaconda3\\lib\\site-packages (1.22.4)\n",
      "Requirement already satisfied: pillow in c:\\users\\asus\\anaconda3\\lib\\site-packages (9.0.1)\n"
     ]
    }
   ],
   "source": [
    "!pip install tensorflow\n",
    "!pip install keras\n",
    "!pip install numpy\n",
    "!pip install pillow"
   ]
  },
  {
   "cell_type": "markdown",
   "id": "1c003e38",
   "metadata": {},
   "source": [
    "##  Import the libraries and load the dataset\n",
    "\n",
    "First, we are going to import all the modules that we are going to need for training our model. The Keras library already contains some datasets and MNIST is one of them. So we can easily import the dataset and start working with it. The mnist.load_data() method returns us the training data, its labels and also the testing data and its labels.\n"
   ]
  },
  {
   "cell_type": "code",
   "execution_count": 7,
   "id": "a80d8656",
   "metadata": {},
   "outputs": [
    {
     "name": "stdout",
     "output_type": "stream",
     "text": [
      "2.12.0\n"
     ]
    }
   ],
   "source": [
    "import tensorflow as tf\n",
    "from tensorflow import keras \n",
    "\n",
    "#Check tf.keras version\n",
    "print(tf.keras.__version__)\n"
   ]
  },
  {
   "cell_type": "markdown",
   "id": "0b247320",
   "metadata": {},
   "source": [
    "### Preparing the Handwritten Digit Recognition dataset\n",
    "\n",
    "Let’s fetch and explore MNIST dataset from the Keras library.\n",
    "\n",
    "The block of code below will load the images of handwritten digits from mnist dataset and randomly split the it as X_train, Y_train (to separate the features and label of training data) and X_test, Y_test (features and label of testing data). These split datasets will be used to train and test our model.\n"
   ]
  },
  {
   "cell_type": "code",
   "execution_count": 8,
   "id": "9294bc53",
   "metadata": {},
   "outputs": [
    {
     "name": "stdout",
     "output_type": "stream",
     "text": [
      "Downloading data from https://storage.googleapis.com/tensorflow/tf-keras-datasets/mnist.npz\n",
      "11490434/11490434 [==============================] - 3s 0us/step\n"
     ]
    }
   ],
   "source": [
    "# Loading MNIST dataset\n",
    "mnist = keras.datasets.mnist \n",
    "\n",
    "#Splitting into train and test\n",
    "(X_train, Y_train), (X_test, Y_test) = mnist.load_data()"
   ]
  },
  {
   "cell_type": "markdown",
   "id": "c0769cec",
   "metadata": {},
   "source": [
    "Let’s check the number of entries in our dataset. For this we will be printing the shape of X_train and X_test."
   ]
  },
  {
   "cell_type": "code",
   "execution_count": 9,
   "id": "bbcbc2a7",
   "metadata": {},
   "outputs": [
    {
     "name": "stdout",
     "output_type": "stream",
     "text": [
      "(60000, 28, 28)\n",
      "(10000, 28, 28)\n"
     ]
    }
   ],
   "source": [
    "# Data Exploration\n",
    "print(X_train.shape)\n",
    "print(X_test.shape)"
   ]
  },
  {
   "cell_type": "markdown",
   "id": "904797c8",
   "metadata": {},
   "source": [
    "From the above output we can see that we have 60000 entries (images) as part of train data with 28×28 pixel values and 10000 entries as a part of test of data of same size. You can check the individual pixels of any of the image, eg: X_train[0].\n",
    "\n",
    "Let’s preprocess our data for further usage. We will reshape the dataset from 28×28 to 784 and convert it into float32 datatype for training our neural network.\n",
    "\n",
    "* Reshape the data\n",
    "* Change the datatype to float32\n",
    "* Normalize the dataset\n",
    "* Perform One-Hot Encoding on the labels"
   ]
  },
  {
   "cell_type": "code",
   "execution_count": 10,
   "id": "8bdba7d6",
   "metadata": {},
   "outputs": [
    {
     "name": "stdout",
     "output_type": "stream",
     "text": [
      "60000 train samples\n",
      "10000 test samples\n"
     ]
    }
   ],
   "source": [
    "# X_train is 60000 rows of 28x28 values; we reshape it to # 60000 x 784. \n",
    "RESHAPED = 784 # 28x28 = 784 neurons\n",
    "X_train = X_train.reshape(60000, RESHAPED) \n",
    "X_test = X_test.reshape(10000, RESHAPED) \n",
    "\n",
    "# Data is converted into float32 to use 32-bit precision # when training a neural network \n",
    "X_train = X_train.astype('float32')\n",
    "X_test = X_test.astype('float32') \n",
    "\n",
    "# Normalizing the input to be within the range [0,1]\n",
    "X_train /= 255\n",
    "#intensity of each pixel is divided by 255, the maximum intensity value\n",
    "X_test /= 255\n",
    "print(X_train.shape[0], 'train samples') \n",
    "print(X_test.shape[0], 'test samples') \n",
    "\n",
    "# One-hot representation of the labels.\n",
    "Y_train = tf.keras.utils.to_categorical(Y_train, 10) \n",
    "Y_test = tf.keras.utils.to_categorical(Y_test, 10)\n"
   ]
  },
  {
   "cell_type": "markdown",
   "id": "a2adca61",
   "metadata": {},
   "source": [
    "The output tells the number of records within the train and test data.\n",
    "\n",
    "Now that we have prepared our data. Next we will be using this data to build our model."
   ]
  },
  {
   "cell_type": "markdown",
   "id": "85686a7f",
   "metadata": {},
   "source": [
    "### Building the Handwritten Digit Recognition Models\n",
    "\n",
    "#### Preparing the Model: Single layer Perceptron\n",
    "This model is the most basic sequential model with 0 hidden layers in it.\n",
    "\n",
    "#### Adding the model layer\n",
    "We will be building the simplest model defined in the Sequential class as a linear stack of Layers"
   ]
  },
  {
   "cell_type": "code",
   "execution_count": 12,
   "id": "2f9d731f",
   "metadata": {},
   "outputs": [],
   "source": [
    "import tensorflow as tf\n",
    "from tensorflow.keras.layers import Dense\n",
    "from tensorflow.keras import Sequential\n",
    "model_1 = Sequential()\n",
    "\n",
    "# Now the model will take as input arrays of shape (*, 784)# and output arrays of shape (*, 10)\n",
    "model_1.add(Dense(10,input_shape=(784,),name='dense_layer', activation='softmax')) "
   ]
  },
  {
   "cell_type": "markdown",
   "id": "b46d53a4",
   "metadata": {},
   "source": [
    "In the above code we are importing the sequential keras model with 0 hidden layers. We have defined the output layer as 10. This is our dense layer. 10 is chosen as we have numbers from 0 to 9 to be classified in the dataset. shape. Total number of neurons in the input layer is 784. The activation function chosen in the dense layer is softmax. We will learn more about the softmax function in detail in our next blog. In simple terms, the model will have 784 input neurons to give the output between 0-9 numbers."
   ]
  },
  {
   "cell_type": "markdown",
   "id": "b2e54f7b",
   "metadata": {},
   "source": [
    "### Compiling the model\n",
    "\n",
    "Next step is to compile the model. For compiling we need to define three parameters: optimizer, loss, and metrics."
   ]
  },
  {
   "cell_type": "code",
   "execution_count": 13,
   "id": "2a20a575",
   "metadata": {},
   "outputs": [],
   "source": [
    "# Compiling the model.\n",
    "model_1.compile(optimizer='SGD', \n",
    "              loss='categorical_crossentropy',\n",
    "              metrics=['accuracy'])"
   ]
  },
  {
   "cell_type": "markdown",
   "id": "3f7eb7e1",
   "metadata": {},
   "source": [
    "### Training the model\n",
    "\n",
    "Model will be now trained on the on the training data. For this we will be defining the epochs, batchsize, and validation size\n",
    "\n",
    "* epoch: Number of times that the model will run through the training dataset\n",
    "* batch_size: Number of training instances to be shown to the model before a weight is updated\n",
    "* validation_split: Defines the fraction of data to be used for validation purpose"
   ]
  },
  {
   "cell_type": "code",
   "execution_count": 15,
   "id": "e889cbb4",
   "metadata": {},
   "outputs": [
    {
     "name": "stdout",
     "output_type": "stream",
     "text": [
      "Epoch 1/70\n",
      "750/750 [==============================] - 3s 3ms/step - loss: 1.0797 - accuracy: 0.7510 - val_loss: 0.6524 - val_accuracy: 0.8593\n",
      "Epoch 2/70\n",
      "750/750 [==============================] - 2s 2ms/step - loss: 0.6021 - accuracy: 0.8581 - val_loss: 0.5051 - val_accuracy: 0.8803\n",
      "Epoch 3/70\n",
      "750/750 [==============================] - 2s 2ms/step - loss: 0.5085 - accuracy: 0.8730 - val_loss: 0.4483 - val_accuracy: 0.8871\n",
      "Epoch 4/70\n",
      "750/750 [==============================] - 2s 3ms/step - loss: 0.4633 - accuracy: 0.8799 - val_loss: 0.4164 - val_accuracy: 0.8918\n",
      "Epoch 5/70\n",
      "750/750 [==============================] - 2s 2ms/step - loss: 0.4353 - accuracy: 0.8850 - val_loss: 0.3957 - val_accuracy: 0.8962\n",
      "Epoch 6/70\n",
      "750/750 [==============================] - 2s 2ms/step - loss: 0.4160 - accuracy: 0.8890 - val_loss: 0.3811 - val_accuracy: 0.8989\n",
      "Epoch 7/70\n",
      "750/750 [==============================] - 2s 2ms/step - loss: 0.4015 - accuracy: 0.8921 - val_loss: 0.3699 - val_accuracy: 0.9017\n",
      "Epoch 8/70\n",
      "750/750 [==============================] - 2s 2ms/step - loss: 0.3900 - accuracy: 0.8938 - val_loss: 0.3610 - val_accuracy: 0.9021\n",
      "Epoch 9/70\n",
      "750/750 [==============================] - 2s 3ms/step - loss: 0.3809 - accuracy: 0.8960 - val_loss: 0.3536 - val_accuracy: 0.9050\n",
      "Epoch 10/70\n",
      "750/750 [==============================] - 2s 3ms/step - loss: 0.3731 - accuracy: 0.8974 - val_loss: 0.3476 - val_accuracy: 0.9055\n",
      "Epoch 11/70\n",
      "750/750 [==============================] - 2s 3ms/step - loss: 0.3665 - accuracy: 0.8990 - val_loss: 0.3424 - val_accuracy: 0.9069\n",
      "Epoch 12/70\n",
      "750/750 [==============================] - 2s 3ms/step - loss: 0.3608 - accuracy: 0.9004 - val_loss: 0.3380 - val_accuracy: 0.9070\n",
      "Epoch 13/70\n",
      "750/750 [==============================] - 2s 2ms/step - loss: 0.3558 - accuracy: 0.9019 - val_loss: 0.3341 - val_accuracy: 0.9081\n",
      "Epoch 14/70\n",
      "750/750 [==============================] - 2s 2ms/step - loss: 0.3513 - accuracy: 0.9026 - val_loss: 0.3303 - val_accuracy: 0.9097\n",
      "Epoch 15/70\n",
      "750/750 [==============================] - 2s 2ms/step - loss: 0.3474 - accuracy: 0.9036 - val_loss: 0.3273 - val_accuracy: 0.9105\n",
      "Epoch 16/70\n",
      "750/750 [==============================] - 2s 2ms/step - loss: 0.3437 - accuracy: 0.9048 - val_loss: 0.3247 - val_accuracy: 0.9110\n",
      "Epoch 17/70\n",
      "750/750 [==============================] - 2s 2ms/step - loss: 0.3405 - accuracy: 0.9059 - val_loss: 0.3219 - val_accuracy: 0.9115\n",
      "Epoch 18/70\n",
      "750/750 [==============================] - 2s 2ms/step - loss: 0.3375 - accuracy: 0.9062 - val_loss: 0.3197 - val_accuracy: 0.9122\n",
      "Epoch 19/70\n",
      "750/750 [==============================] - 2s 3ms/step - loss: 0.3348 - accuracy: 0.9072 - val_loss: 0.3174 - val_accuracy: 0.9137\n",
      "Epoch 20/70\n",
      "750/750 [==============================] - 2s 3ms/step - loss: 0.3322 - accuracy: 0.9076 - val_loss: 0.3155 - val_accuracy: 0.9133\n",
      "Epoch 21/70\n",
      "750/750 [==============================] - 2s 2ms/step - loss: 0.3299 - accuracy: 0.9083 - val_loss: 0.3137 - val_accuracy: 0.9139\n",
      "Epoch 22/70\n",
      "750/750 [==============================] - 2s 2ms/step - loss: 0.3277 - accuracy: 0.9092 - val_loss: 0.3120 - val_accuracy: 0.9142\n",
      "Epoch 23/70\n",
      "750/750 [==============================] - 2s 3ms/step - loss: 0.3256 - accuracy: 0.9098 - val_loss: 0.3105 - val_accuracy: 0.9144\n",
      "Epoch 24/70\n",
      "750/750 [==============================] - 2s 3ms/step - loss: 0.3237 - accuracy: 0.9098 - val_loss: 0.3088 - val_accuracy: 0.9152\n",
      "Epoch 25/70\n",
      "750/750 [==============================] - 2s 2ms/step - loss: 0.3219 - accuracy: 0.9103 - val_loss: 0.3076 - val_accuracy: 0.9155\n",
      "Epoch 26/70\n",
      "750/750 [==============================] - 2s 2ms/step - loss: 0.3201 - accuracy: 0.9109 - val_loss: 0.3064 - val_accuracy: 0.9154\n",
      "Epoch 27/70\n",
      "750/750 [==============================] - 2s 2ms/step - loss: 0.3186 - accuracy: 0.9113 - val_loss: 0.3049 - val_accuracy: 0.9162\n",
      "Epoch 28/70\n",
      "750/750 [==============================] - 2s 2ms/step - loss: 0.3170 - accuracy: 0.9119 - val_loss: 0.3038 - val_accuracy: 0.9158\n",
      "Epoch 29/70\n",
      "750/750 [==============================] - 2s 3ms/step - loss: 0.3156 - accuracy: 0.9121 - val_loss: 0.3026 - val_accuracy: 0.9161\n",
      "Epoch 30/70\n",
      "750/750 [==============================] - 2s 2ms/step - loss: 0.3143 - accuracy: 0.9124 - val_loss: 0.3017 - val_accuracy: 0.9162\n",
      "Epoch 31/70\n",
      "750/750 [==============================] - 2s 2ms/step - loss: 0.3129 - accuracy: 0.9128 - val_loss: 0.3008 - val_accuracy: 0.9168\n",
      "Epoch 32/70\n",
      "750/750 [==============================] - 3s 4ms/step - loss: 0.3116 - accuracy: 0.9132 - val_loss: 0.2999 - val_accuracy: 0.9168\n",
      "Epoch 33/70\n",
      "750/750 [==============================] - 3s 4ms/step - loss: 0.3105 - accuracy: 0.9136 - val_loss: 0.2988 - val_accuracy: 0.9170\n",
      "Epoch 34/70\n",
      "750/750 [==============================] - 2s 3ms/step - loss: 0.3094 - accuracy: 0.9138 - val_loss: 0.2979 - val_accuracy: 0.9176\n",
      "Epoch 35/70\n",
      "750/750 [==============================] - 2s 3ms/step - loss: 0.3083 - accuracy: 0.9142 - val_loss: 0.2972 - val_accuracy: 0.9173\n",
      "Epoch 36/70\n",
      "750/750 [==============================] - 2s 3ms/step - loss: 0.3072 - accuracy: 0.9146 - val_loss: 0.2967 - val_accuracy: 0.9172\n",
      "Epoch 37/70\n",
      "750/750 [==============================] - 3s 4ms/step - loss: 0.3062 - accuracy: 0.9150 - val_loss: 0.2957 - val_accuracy: 0.9176\n",
      "Epoch 38/70\n",
      "750/750 [==============================] - 3s 4ms/step - loss: 0.3052 - accuracy: 0.9151 - val_loss: 0.2949 - val_accuracy: 0.9181\n",
      "Epoch 39/70\n",
      "750/750 [==============================] - 2s 3ms/step - loss: 0.3043 - accuracy: 0.9156 - val_loss: 0.2942 - val_accuracy: 0.9180\n",
      "Epoch 40/70\n",
      "750/750 [==============================] - 5s 7ms/step - loss: 0.3034 - accuracy: 0.9155 - val_loss: 0.2936 - val_accuracy: 0.9181\n",
      "Epoch 41/70\n",
      "750/750 [==============================] - 4s 5ms/step - loss: 0.3025 - accuracy: 0.9159 - val_loss: 0.2931 - val_accuracy: 0.9182\n",
      "Epoch 42/70\n",
      "750/750 [==============================] - 2s 3ms/step - loss: 0.3018 - accuracy: 0.9162 - val_loss: 0.2922 - val_accuracy: 0.9187\n",
      "Epoch 43/70\n",
      "750/750 [==============================] - 3s 4ms/step - loss: 0.3008 - accuracy: 0.9165 - val_loss: 0.2917 - val_accuracy: 0.9183\n",
      "Epoch 44/70\n",
      "750/750 [==============================] - 3s 4ms/step - loss: 0.3001 - accuracy: 0.9166 - val_loss: 0.2915 - val_accuracy: 0.9188\n",
      "Epoch 45/70\n",
      "750/750 [==============================] - 2s 3ms/step - loss: 0.2993 - accuracy: 0.9167 - val_loss: 0.2906 - val_accuracy: 0.9193\n",
      "Epoch 46/70\n",
      "750/750 [==============================] - 2s 3ms/step - loss: 0.2986 - accuracy: 0.9172 - val_loss: 0.2903 - val_accuracy: 0.9187\n",
      "Epoch 47/70\n",
      "750/750 [==============================] - 2s 3ms/step - loss: 0.2979 - accuracy: 0.9170 - val_loss: 0.2896 - val_accuracy: 0.9187\n",
      "Epoch 48/70\n",
      "750/750 [==============================] - 2s 3ms/step - loss: 0.2972 - accuracy: 0.9174 - val_loss: 0.2894 - val_accuracy: 0.9186\n",
      "Epoch 49/70\n",
      "750/750 [==============================] - 2s 3ms/step - loss: 0.2965 - accuracy: 0.9176 - val_loss: 0.2886 - val_accuracy: 0.9202\n",
      "Epoch 50/70\n",
      "750/750 [==============================] - 2s 3ms/step - loss: 0.2959 - accuracy: 0.9175 - val_loss: 0.2882 - val_accuracy: 0.9194\n",
      "Epoch 51/70\n",
      "750/750 [==============================] - 2s 3ms/step - loss: 0.2953 - accuracy: 0.9178 - val_loss: 0.2879 - val_accuracy: 0.9199\n",
      "Epoch 52/70\n",
      "750/750 [==============================] - 2s 3ms/step - loss: 0.2947 - accuracy: 0.9178 - val_loss: 0.2874 - val_accuracy: 0.9197\n",
      "Epoch 53/70\n",
      "750/750 [==============================] - 2s 3ms/step - loss: 0.2941 - accuracy: 0.9180 - val_loss: 0.2870 - val_accuracy: 0.9198\n",
      "Epoch 54/70\n",
      "750/750 [==============================] - 2s 3ms/step - loss: 0.2935 - accuracy: 0.9180 - val_loss: 0.2865 - val_accuracy: 0.9203\n",
      "Epoch 55/70\n",
      "750/750 [==============================] - 2s 3ms/step - loss: 0.2929 - accuracy: 0.9185 - val_loss: 0.2861 - val_accuracy: 0.9197\n",
      "Epoch 56/70\n",
      "750/750 [==============================] - 2s 3ms/step - loss: 0.2924 - accuracy: 0.9186 - val_loss: 0.2858 - val_accuracy: 0.9199\n",
      "Epoch 57/70\n",
      "750/750 [==============================] - 2s 3ms/step - loss: 0.2919 - accuracy: 0.9189 - val_loss: 0.2854 - val_accuracy: 0.9200\n",
      "Epoch 58/70\n",
      "750/750 [==============================] - 2s 3ms/step - loss: 0.2913 - accuracy: 0.9189 - val_loss: 0.2850 - val_accuracy: 0.9203\n",
      "Epoch 59/70\n",
      "750/750 [==============================] - 2s 3ms/step - loss: 0.2908 - accuracy: 0.9187 - val_loss: 0.2846 - val_accuracy: 0.9209\n",
      "Epoch 60/70\n",
      "750/750 [==============================] - 2s 2ms/step - loss: 0.2903 - accuracy: 0.9190 - val_loss: 0.2843 - val_accuracy: 0.9206\n",
      "Epoch 61/70\n",
      "750/750 [==============================] - 2s 2ms/step - loss: 0.2898 - accuracy: 0.9191 - val_loss: 0.2840 - val_accuracy: 0.9210\n",
      "Epoch 62/70\n",
      "750/750 [==============================] - 2s 3ms/step - loss: 0.2893 - accuracy: 0.9191 - val_loss: 0.2836 - val_accuracy: 0.9210\n",
      "Epoch 63/70\n",
      "750/750 [==============================] - 2s 3ms/step - loss: 0.2889 - accuracy: 0.9193 - val_loss: 0.2834 - val_accuracy: 0.9216\n",
      "Epoch 64/70\n",
      "750/750 [==============================] - 2s 2ms/step - loss: 0.2884 - accuracy: 0.9193 - val_loss: 0.2832 - val_accuracy: 0.9211\n",
      "Epoch 65/70\n",
      "750/750 [==============================] - 2s 3ms/step - loss: 0.2880 - accuracy: 0.9199 - val_loss: 0.2827 - val_accuracy: 0.9213\n",
      "Epoch 66/70\n",
      "750/750 [==============================] - 2s 3ms/step - loss: 0.2875 - accuracy: 0.9195 - val_loss: 0.2825 - val_accuracy: 0.9217\n",
      "Epoch 67/70\n",
      "750/750 [==============================] - 2s 2ms/step - loss: 0.2871 - accuracy: 0.9199 - val_loss: 0.2823 - val_accuracy: 0.9215\n",
      "Epoch 68/70\n",
      "750/750 [==============================] - 2s 2ms/step - loss: 0.2867 - accuracy: 0.9199 - val_loss: 0.2821 - val_accuracy: 0.9215\n",
      "Epoch 69/70\n",
      "750/750 [==============================] - 2s 3ms/step - loss: 0.2863 - accuracy: 0.9201 - val_loss: 0.2818 - val_accuracy: 0.9217\n",
      "Epoch 70/70\n",
      "750/750 [==============================] - 3s 3ms/step - loss: 0.2859 - accuracy: 0.9201 - val_loss: 0.2814 - val_accuracy: 0.9217\n"
     ]
    }
   ],
   "source": [
    "# Training the model. \n",
    "training = model_1.fit(X_train, Y_train, batch_size=64, epochs=70, validation_split=0.2) "
   ]
  },
  {
   "cell_type": "markdown",
   "id": "5351f418",
   "metadata": {},
   "source": [
    "### Plot the change in accuracy and loss per epochs\n",
    "\n",
    "You can plot a curve to check the variation of accuracy and loss as the number of epochs increases. For this you can use, matplotlib to plot the curve."
   ]
  },
  {
   "cell_type": "code",
   "execution_count": 16,
   "id": "1736c565",
   "metadata": {},
   "outputs": [
    {
     "name": "stdout",
     "output_type": "stream",
     "text": [
      "dict_keys(['loss', 'accuracy', 'val_loss', 'val_accuracy'])\n"
     ]
    },
    {
     "data": {
      "image/png": "[encoded data removed]",
      "text/plain": [
       "<Figure size 432x288 with 1 Axes>"
      ]
     },
     "metadata": {
      "needs_background": "light"
     },
     "output_type": "display_data"
    },
    {
     "data": {
      "image/png": "[encoded data removed]",
      "text/plain": [
       "<Figure size 432x288 with 1 Axes>"
      ]
     },
     "metadata": {
      "needs_background": "light"
     },
     "output_type": "display_data"
    }
   ],
   "source": [
    "import matplotlib.pyplot as plt\n",
    "%matplotlib inline\n",
    "\n",
    "# list all data in training\n",
    "print(training.history.keys())\n",
    "\n",
    "# summarize training for accuracy\n",
    "plt.plot(training.history['accuracy'])\n",
    "plt.plot(training.history['val_accuracy'])\n",
    "plt.title('model accuracy')\n",
    "plt.ylabel('accuracy')\n",
    "plt.xlabel('epoch')\n",
    "plt.legend(['train', 'test'], loc='upper left')\n",
    "plt.show()\n",
    "\n",
    "# summarize traning for loss\n",
    "plt.plot(training.history['loss'])\n",
    "plt.plot(training.history['val_loss'])\n",
    "plt.title('model loss')\n",
    "plt.ylabel('loss')\n",
    "plt.xlabel('epoch')\n",
    "plt.legend(['train', 'test'], loc='upper left')\n",
    "plt.show()"
   ]
  },
  {
   "cell_type": "markdown",
   "id": "811fcca1",
   "metadata": {},
   "source": [
    "### Evaluating the Handwritten Digit Recognition Model on Test Data\n",
    "\n",
    "We will now test the accuracy of the model on the testing dataset."
   ]
  },
  {
   "cell_type": "code",
   "execution_count": 17,
   "id": "1f5032d1",
   "metadata": {},
   "outputs": [
    {
     "name": "stdout",
     "output_type": "stream",
     "text": [
      "313/313 [==============================] - 1s 3ms/step - loss: 0.2827 - accuracy: 0.9213\n",
      "Test accuracy: 0.9212999939918518\n"
     ]
    }
   ],
   "source": [
    "#evaluate the model\n",
    "test_loss, test_acc = model_1.evaluate(X_test, Y_test)\n",
    "print('Test accuracy:', test_acc)"
   ]
  },
  {
   "cell_type": "markdown",
   "id": "f48c0db4",
   "metadata": {},
   "source": [
    "Finally you can check the configuration of the model using get_config()"
   ]
  },
  {
   "cell_type": "code",
   "execution_count": 18,
   "id": "7def4e7e",
   "metadata": {},
   "outputs": [
    {
     "data": {
      "text/plain": [
       "{'name': 'sequential',\n",
       " 'layers': [{'class_name': 'InputLayer',\n",
       "   'config': {'batch_input_shape': (None, 784),\n",
       "    'dtype': 'float32',\n",
       "    'sparse': False,\n",
       "    'ragged': False,\n",
       "    'name': 'dense_layer_input'}},\n",
       "  {'class_name': 'Dense',\n",
       "   'config': {'name': 'dense_layer',\n",
       "    'trainable': True,\n",
       "    'dtype': 'float32',\n",
       "    'batch_input_shape': (None, 784),\n",
       "    'units': 10,\n",
       "    'activation': 'softmax',\n",
       "    'use_bias': True,\n",
       "    'kernel_initializer': {'class_name': 'GlorotUniform',\n",
       "     'config': {'seed': None}},\n",
       "    'bias_initializer': {'class_name': 'Zeros', 'config': {}},\n",
       "    'kernel_regularizer': None,\n",
       "    'bias_regularizer': None,\n",
       "    'activity_regularizer': None,\n",
       "    'kernel_constraint': None,\n",
       "    'bias_constraint': None}}]}"
      ]
     },
     "execution_count": 18,
     "metadata": {},
     "output_type": "execute_result"
    }
   ],
   "source": [
    "model_1.get_config()"
   ]
  },
  {
   "cell_type": "markdown",
   "id": "b0cca499",
   "metadata": {},
   "source": [
    "Final accuracy of our trained model comes to be 92.13%"
   ]
  },
  {
   "cell_type": "code",
   "execution_count": null,
   "id": "c64d71c8",
   "metadata": {},
   "outputs": [],
   "source": []
  }
 ],
 "metadata": {
  "kernelspec": {
   "display_name": "Python 3 (ipykernel)",
   "language": "python",
   "name": "python3"
  },
  "language_info": {
   "codemirror_mode": {
    "name": "ipython",
    "version": 3
   },
   "file_extension": ".py",
   "mimetype": "text/x-python",
   "name": "python",
   "nbconvert_exporter": "python",
   "pygments_lexer": "ipython3",
   "version": "3.9.12"
  }
 },
 "nbformat": 4,
 "nbformat_minor": 5
}
